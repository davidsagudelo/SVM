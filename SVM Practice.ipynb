{
 "cells": [
  {
   "cell_type": "code",
   "execution_count": 1,
   "id": "bb8211e5",
   "metadata": {},
   "outputs": [],
   "source": [
    "import numpy as np\n",
    "import pandas as pd\n",
    "import matplotlib.pyplot as plt\n",
    "import seaborn as sns"
   ]
  },
  {
   "cell_type": "code",
   "execution_count": 2,
   "id": "aefecfb5",
   "metadata": {},
   "outputs": [],
   "source": [
    "df = pd.read_csv(\"leukemia.csv\")"
   ]
  },
  {
   "cell_type": "code",
   "execution_count": 3,
   "id": "14ed2ec3",
   "metadata": {
    "scrolled": true
   },
   "outputs": [
    {
     "data": {
      "text/html": [
       "<div>\n",
       "<style scoped>\n",
       "    .dataframe tbody tr th:only-of-type {\n",
       "        vertical-align: middle;\n",
       "    }\n",
       "\n",
       "    .dataframe tbody tr th {\n",
       "        vertical-align: top;\n",
       "    }\n",
       "\n",
       "    .dataframe thead th {\n",
       "        text-align: right;\n",
       "    }\n",
       "</style>\n",
       "<table border=\"1\" class=\"dataframe\">\n",
       "  <thead>\n",
       "    <tr style=\"text-align: right;\">\n",
       "      <th></th>\n",
       "      <th>Patient_ID</th>\n",
       "      <th>1563591_at</th>\n",
       "      <th>1570350_at</th>\n",
       "      <th>200063_s_at</th>\n",
       "      <th>206289_at</th>\n",
       "      <th>206847_s_at</th>\n",
       "      <th>208129_x_at</th>\n",
       "      <th>208493_at</th>\n",
       "      <th>208557_at</th>\n",
       "      <th>208604_s_at</th>\n",
       "      <th>...</th>\n",
       "      <th>221691_x_at</th>\n",
       "      <th>221923_s_at</th>\n",
       "      <th>231786_at</th>\n",
       "      <th>235521_at</th>\n",
       "      <th>235753_at</th>\n",
       "      <th>237697_at</th>\n",
       "      <th>238571_at</th>\n",
       "      <th>238808_at</th>\n",
       "      <th>243058_at</th>\n",
       "      <th>Leukemia</th>\n",
       "    </tr>\n",
       "  </thead>\n",
       "  <tbody>\n",
       "    <tr>\n",
       "      <th>0</th>\n",
       "      <td>Sample_1000</td>\n",
       "      <td>3.056436</td>\n",
       "      <td>3.618254</td>\n",
       "      <td>12.641006</td>\n",
       "      <td>5.062973</td>\n",
       "      <td>3.622257</td>\n",
       "      <td>5.536213</td>\n",
       "      <td>3.796584</td>\n",
       "      <td>4.578751</td>\n",
       "      <td>5.061145</td>\n",
       "      <td>...</td>\n",
       "      <td>11.077904</td>\n",
       "      <td>9.686451</td>\n",
       "      <td>2.980329</td>\n",
       "      <td>3.059078</td>\n",
       "      <td>3.780181</td>\n",
       "      <td>3.873638</td>\n",
       "      <td>3.631859</td>\n",
       "      <td>3.032457</td>\n",
       "      <td>5.186670</td>\n",
       "      <td>CLL</td>\n",
       "    </tr>\n",
       "    <tr>\n",
       "      <th>1</th>\n",
       "      <td>Sample_1001</td>\n",
       "      <td>2.972746</td>\n",
       "      <td>3.656448</td>\n",
       "      <td>13.009815</td>\n",
       "      <td>5.444977</td>\n",
       "      <td>4.430324</td>\n",
       "      <td>6.629713</td>\n",
       "      <td>4.143195</td>\n",
       "      <td>4.581042</td>\n",
       "      <td>4.815637</td>\n",
       "      <td>...</td>\n",
       "      <td>11.784089</td>\n",
       "      <td>11.272479</td>\n",
       "      <td>3.504151</td>\n",
       "      <td>4.614741</td>\n",
       "      <td>4.456387</td>\n",
       "      <td>3.392600</td>\n",
       "      <td>3.448984</td>\n",
       "      <td>3.547128</td>\n",
       "      <td>5.084203</td>\n",
       "      <td>AML</td>\n",
       "    </tr>\n",
       "    <tr>\n",
       "      <th>2</th>\n",
       "      <td>Sample_1002</td>\n",
       "      <td>3.111013</td>\n",
       "      <td>3.910347</td>\n",
       "      <td>12.271732</td>\n",
       "      <td>6.454073</td>\n",
       "      <td>6.612310</td>\n",
       "      <td>7.080542</td>\n",
       "      <td>4.685840</td>\n",
       "      <td>5.839468</td>\n",
       "      <td>5.313898</td>\n",
       "      <td>...</td>\n",
       "      <td>11.022868</td>\n",
       "      <td>10.209611</td>\n",
       "      <td>3.029066</td>\n",
       "      <td>8.911515</td>\n",
       "      <td>6.942798</td>\n",
       "      <td>3.864401</td>\n",
       "      <td>3.886512</td>\n",
       "      <td>3.015252</td>\n",
       "      <td>5.046901</td>\n",
       "      <td>AML</td>\n",
       "    </tr>\n",
       "    <tr>\n",
       "      <th>3</th>\n",
       "      <td>Sample_1003</td>\n",
       "      <td>2.882058</td>\n",
       "      <td>3.582897</td>\n",
       "      <td>12.784057</td>\n",
       "      <td>6.593272</td>\n",
       "      <td>4.799354</td>\n",
       "      <td>5.912197</td>\n",
       "      <td>3.515558</td>\n",
       "      <td>5.224020</td>\n",
       "      <td>5.401763</td>\n",
       "      <td>...</td>\n",
       "      <td>11.645520</td>\n",
       "      <td>10.333872</td>\n",
       "      <td>2.632752</td>\n",
       "      <td>7.398745</td>\n",
       "      <td>5.028869</td>\n",
       "      <td>3.845556</td>\n",
       "      <td>3.326164</td>\n",
       "      <td>2.811341</td>\n",
       "      <td>4.803970</td>\n",
       "      <td>AML</td>\n",
       "    </tr>\n",
       "    <tr>\n",
       "      <th>4</th>\n",
       "      <td>Sample_1004</td>\n",
       "      <td>3.335401</td>\n",
       "      <td>3.426485</td>\n",
       "      <td>12.671934</td>\n",
       "      <td>6.060153</td>\n",
       "      <td>6.832800</td>\n",
       "      <td>6.332313</td>\n",
       "      <td>3.391523</td>\n",
       "      <td>5.938946</td>\n",
       "      <td>5.526973</td>\n",
       "      <td>...</td>\n",
       "      <td>11.237164</td>\n",
       "      <td>10.486609</td>\n",
       "      <td>2.693749</td>\n",
       "      <td>8.503826</td>\n",
       "      <td>7.260643</td>\n",
       "      <td>3.547633</td>\n",
       "      <td>3.222044</td>\n",
       "      <td>2.904241</td>\n",
       "      <td>5.076562</td>\n",
       "      <td>AML</td>\n",
       "    </tr>\n",
       "  </tbody>\n",
       "</table>\n",
       "<p>5 rows × 41 columns</p>\n",
       "</div>"
      ],
      "text/plain": [
       "    Patient_ID  1563591_at  1570350_at  200063_s_at  206289_at  206847_s_at  \\\n",
       "0  Sample_1000    3.056436    3.618254    12.641006   5.062973     3.622257   \n",
       "1  Sample_1001    2.972746    3.656448    13.009815   5.444977     4.430324   \n",
       "2  Sample_1002    3.111013    3.910347    12.271732   6.454073     6.612310   \n",
       "3  Sample_1003    2.882058    3.582897    12.784057   6.593272     4.799354   \n",
       "4  Sample_1004    3.335401    3.426485    12.671934   6.060153     6.832800   \n",
       "\n",
       "   208129_x_at  208493_at  208557_at  208604_s_at  ...  221691_x_at  \\\n",
       "0     5.536213   3.796584   4.578751     5.061145  ...    11.077904   \n",
       "1     6.629713   4.143195   4.581042     4.815637  ...    11.784089   \n",
       "2     7.080542   4.685840   5.839468     5.313898  ...    11.022868   \n",
       "3     5.912197   3.515558   5.224020     5.401763  ...    11.645520   \n",
       "4     6.332313   3.391523   5.938946     5.526973  ...    11.237164   \n",
       "\n",
       "   221923_s_at  231786_at  235521_at  235753_at  237697_at  238571_at  \\\n",
       "0     9.686451   2.980329   3.059078   3.780181   3.873638   3.631859   \n",
       "1    11.272479   3.504151   4.614741   4.456387   3.392600   3.448984   \n",
       "2    10.209611   3.029066   8.911515   6.942798   3.864401   3.886512   \n",
       "3    10.333872   2.632752   7.398745   5.028869   3.845556   3.326164   \n",
       "4    10.486609   2.693749   8.503826   7.260643   3.547633   3.222044   \n",
       "\n",
       "   238808_at  243058_at  Leukemia  \n",
       "0   3.032457   5.186670       CLL  \n",
       "1   3.547128   5.084203       AML  \n",
       "2   3.015252   5.046901       AML  \n",
       "3   2.811341   4.803970       AML  \n",
       "4   2.904241   5.076562       AML  \n",
       "\n",
       "[5 rows x 41 columns]"
      ]
     },
     "execution_count": 3,
     "metadata": {},
     "output_type": "execute_result"
    }
   ],
   "source": [
    "df.head()"
   ]
  },
  {
   "cell_type": "code",
   "execution_count": 4,
   "id": "d067b2b4",
   "metadata": {},
   "outputs": [
    {
     "name": "stdout",
     "output_type": "stream",
     "text": [
      "<class 'pandas.core.frame.DataFrame'>\n",
      "RangeIndex: 1273 entries, 0 to 1272\n",
      "Data columns (total 41 columns):\n",
      " #   Column         Non-Null Count  Dtype  \n",
      "---  ------         --------------  -----  \n",
      " 0   Patient_ID     1273 non-null   object \n",
      " 1   1563591_at     1273 non-null   float64\n",
      " 2   1570350_at     1273 non-null   float64\n",
      " 3   200063_s_at    1273 non-null   float64\n",
      " 4   206289_at      1273 non-null   float64\n",
      " 5   206847_s_at    1273 non-null   float64\n",
      " 6   208129_x_at    1273 non-null   float64\n",
      " 7   208493_at      1273 non-null   float64\n",
      " 8   208557_at      1273 non-null   float64\n",
      " 9   208604_s_at    1273 non-null   float64\n",
      " 10  209359_x_at    1273 non-null   float64\n",
      " 11  209360_s_at    1273 non-null   float64\n",
      " 12  209905_at      1273 non-null   float64\n",
      " 13  209905_at.1    1273 non-null   float64\n",
      " 14  210365_at      1273 non-null   float64\n",
      " 15  210805_x_at    1273 non-null   float64\n",
      " 16  211180_x_at    1273 non-null   float64\n",
      " 17  211181_x_at    1273 non-null   float64\n",
      " 18  211182_x_at    1273 non-null   float64\n",
      " 19  211620_x_at    1273 non-null   float64\n",
      " 20  213147_at      1273 non-null   float64\n",
      " 21  213147_at.1    1273 non-null   float64\n",
      " 22  213150_at      1273 non-null   float64\n",
      " 23  213150_at.1    1273 non-null   float64\n",
      " 24  213823_at      1273 non-null   float64\n",
      " 25  213844_at      1273 non-null   float64\n",
      " 26  214457_at      1273 non-null   float64\n",
      " 27  214639_s_at    1273 non-null   float64\n",
      " 28  214651_s_at    1273 non-null   float64\n",
      " 29  214651_s_at.1  1273 non-null   float64\n",
      " 30  217263_x_at    1273 non-null   float64\n",
      " 31  221691_x_at    1273 non-null   float64\n",
      " 32  221923_s_at    1273 non-null   float64\n",
      " 33  231786_at      1273 non-null   float64\n",
      " 34  235521_at      1273 non-null   float64\n",
      " 35  235753_at      1273 non-null   float64\n",
      " 36  237697_at      1273 non-null   float64\n",
      " 37  238571_at      1273 non-null   float64\n",
      " 38  238808_at      1273 non-null   float64\n",
      " 39  243058_at      1273 non-null   float64\n",
      " 40  Leukemia       1273 non-null   object \n",
      "dtypes: float64(39), object(2)\n",
      "memory usage: 407.9+ KB\n"
     ]
    }
   ],
   "source": [
    "df.info()"
   ]
  },
  {
   "cell_type": "code",
   "execution_count": 5,
   "id": "7b65db9d",
   "metadata": {},
   "outputs": [
    {
     "data": {
      "text/plain": [
       "array(['CLL', 'AML', 'ALL', 'CML', 'Nonleukemia'], dtype=object)"
      ]
     },
     "execution_count": 5,
     "metadata": {},
     "output_type": "execute_result"
    }
   ],
   "source": [
    "df[\"Leukemia\"].unique()"
   ]
  },
  {
   "cell_type": "code",
   "execution_count": 6,
   "id": "6e595bf2",
   "metadata": {},
   "outputs": [],
   "source": [
    "df = df.drop(\"Patient_ID\", axis =1 )"
   ]
  },
  {
   "cell_type": "code",
   "execution_count": 7,
   "id": "7541e11e",
   "metadata": {},
   "outputs": [],
   "source": [
    "df[\"Leukemia\"] = df[\"Leukemia\"].replace(to_replace = \"Nonleukemia\", value = 0)\n",
    "df[\"Leukemia\"] = df[\"Leukemia\"].replace(to_replace = ['CLL', 'AML', 'ALL', 'CML'] , value = 1)"
   ]
  },
  {
   "cell_type": "code",
   "execution_count": 8,
   "id": "725c36af",
   "metadata": {
    "scrolled": true
   },
   "outputs": [
    {
     "data": {
      "text/plain": [
       "array([1, 0], dtype=int64)"
      ]
     },
     "execution_count": 8,
     "metadata": {},
     "output_type": "execute_result"
    }
   ],
   "source": [
    "df[\"Leukemia\"].unique()"
   ]
  },
  {
   "cell_type": "code",
   "execution_count": 9,
   "id": "95245b40",
   "metadata": {},
   "outputs": [
    {
     "data": {
      "text/plain": [
       "<Axes: xlabel='Leukemia', ylabel='count'>"
      ]
     },
     "execution_count": 9,
     "metadata": {},
     "output_type": "execute_result"
    },
    {
     "data": {
      "image/png": "[encoded data removed]",
      "text/plain": [
       "<Figure size 200x200 with 1 Axes>"
      ]
     },
     "metadata": {},
     "output_type": "display_data"
    }
   ],
   "source": [
    "plt.figure(figsize=(2,2))\n",
    "sns.countplot(data=df, x= df[\"Leukemia\"])"
   ]
  },
  {
   "cell_type": "code",
   "execution_count": 10,
   "id": "1b29ca0c",
   "metadata": {},
   "outputs": [],
   "source": [
    "from sklearn.model_selection import train_test_split\n",
    "from sklearn.preprocessing import StandardScaler\n",
    "\n",
    "from sklearn.svm import SVC\n",
    "from sklearn.metrics import accuracy_score"
   ]
  },
  {
   "cell_type": "code",
   "execution_count": 11,
   "id": "8e085a5f",
   "metadata": {},
   "outputs": [],
   "source": [
    "# Separate the features and target\n",
    "x = df.drop('Leukemia', axis=1)\n",
    "y = df['Leukemia']\n",
    "\n",
    "# splitting the df into test and train\n",
    "x_train , x_test, y_train, y_test = train_test_split(x, y, test_size=0.3)\n",
    "\n",
    "# Standardize features\n",
    "scaler = StandardScaler()\n",
    "\n",
    "x_train = scaler.fit_transform(x_train)\n",
    "x_test = scaler.transform(x_test)"
   ]
  },
  {
   "cell_type": "code",
   "execution_count": 12,
   "id": "dd39dae6",
   "metadata": {},
   "outputs": [
    {
     "data": {
      "text/plain": [
       "0.9424083769633508"
      ]
     },
     "execution_count": 12,
     "metadata": {},
     "output_type": "execute_result"
    }
   ],
   "source": [
    "linear_model = SVC(kernel='linear')\n",
    "\n",
    "linear_model.fit(x_train, y_train)\n",
    "ypred = linear_model.predict(x_test)\n",
    "\n",
    "accuracy_score(ypred, y_test)"
   ]
  },
  {
   "cell_type": "code",
   "execution_count": 13,
   "id": "b4eda9e9",
   "metadata": {},
   "outputs": [
    {
     "data": {
      "text/plain": [
       "0.9293193717277487"
      ]
     },
     "execution_count": 13,
     "metadata": {},
     "output_type": "execute_result"
    }
   ],
   "source": [
    "poly_model = SVC(kernel='poly')\n",
    "\n",
    "poly_model.fit(x_train, y_train)\n",
    "ypred = poly_model.predict(x_test)\n",
    "\n",
    "accuracy_score(ypred, y_test)"
   ]
  },
  {
   "cell_type": "code",
   "execution_count": 14,
   "id": "a71b6fb0",
   "metadata": {},
   "outputs": [
    {
     "data": {
      "text/plain": [
       "0.9476439790575916"
      ]
     },
     "execution_count": 14,
     "metadata": {},
     "output_type": "execute_result"
    }
   ],
   "source": [
    "rbf_model = SVC(kernel='rbf')\n",
    "\n",
    "rbf_model.fit(x_train, y_train)\n",
    "ypred = rbf_model.predict(x_test)\n",
    "\n",
    "accuracy_score(ypred, y_test)"
   ]
  },
  {
   "cell_type": "code",
   "execution_count": 15,
   "id": "f0000e93",
   "metadata": {},
   "outputs": [
    {
     "data": {
      "text/plain": [
       "0.9240837696335078"
      ]
     },
     "execution_count": 15,
     "metadata": {},
     "output_type": "execute_result"
    }
   ],
   "source": [
    "sigmoid_model = SVC(kernel='sigmoid')\n",
    "\n",
    "sigmoid_model.fit(x_train, y_train)\n",
    "ypred = sigmoid_model.predict(x_test)\n",
    "\n",
    "accuracy_score(ypred, y_test)"
   ]
  }
 ],
 "metadata": {
  "kernelspec": {
   "display_name": "Python 3 (ipykernel)",
   "language": "python",
   "name": "python3"
  },
  "language_info": {
   "codemirror_mode": {
    "name": "ipython",
    "version": 3
   },
   "file_extension": ".py",
   "mimetype": "text/x-python",
   "name": "python",
   "nbconvert_exporter": "python",
   "pygments_lexer": "ipython3",
   "version": "3.10.9"
  }
 },
 "nbformat": 4,
 "nbformat_minor": 5
}
